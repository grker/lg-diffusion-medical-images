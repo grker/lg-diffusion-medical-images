{
 "cells": [
  {
   "cell_type": "markdown",
   "metadata": {},
   "source": [
    "## PseudoGT-Generator Test"
   ]
  },
  {
   "cell_type": "code",
   "execution_count": null,
   "metadata": {},
   "outputs": [],
   "source": [
    "%load_ext autoreload\n",
    "%autoreload 2\n",
    "\n",
    "import os\n",
    "\n",
    "import matplotlib.pyplot as plt\n",
    "import numpy as np\n",
    "import torch\n",
    "from PIL import Image\n",
    "\n",
    "import guidance.pgt as lg"
   ]
  },
  {
   "cell_type": "markdown",
   "metadata": {},
   "source": [
    "Function to load created inference gifs and create a batch with the frames of the gifs:"
   ]
  },
  {
   "cell_type": "code",
   "execution_count": null,
   "metadata": {},
   "outputs": [],
   "source": [
    "def get_frame(frame_nr, path):\n",
    "    gif = Image.open(os.path.join(os.getcwd(), path))\n",
    "    gif.seek(frame_nr)\n",
    "    frame = np.array(gif)\n",
    "\n",
    "    frame = frame[:, :, 0]\n",
    "\n",
    "    classes = []\n",
    "    num_classes = 4\n",
    "    padding = 10\n",
    "\n",
    "    x_coord = padding\n",
    "    y_coord = padding\n",
    "    image_size = 154\n",
    "    for i in range(num_classes):\n",
    "        classes.append(\n",
    "            torch.from_numpy(\n",
    "                frame[y_coord : y_coord + image_size, x_coord : x_coord + image_size]\n",
    "                / 255\n",
    "            )\n",
    "        )\n",
    "        x_coord = x_coord + image_size + padding\n",
    "\n",
    "    return torch.stack(classes, dim=0)"
   ]
  },
  {
   "cell_type": "code",
   "execution_count": null,
   "metadata": {},
   "outputs": [],
   "source": [
    "def create_batch(path, frames: list[int]):\n",
    "    batch = []\n",
    "    for frame in frames:\n",
    "        batch.append(get_frame(frame, path))\n",
    "    return torch.stack(batch, dim=0)"
   ]
  },
  {
   "cell_type": "code",
   "execution_count": null,
   "metadata": {},
   "outputs": [],
   "source": [
    "from matplotlib.gridspec import GridSpec\n",
    "\n",
    "\n",
    "def plot_pseudo_gt(pseudo_gt, prediction):\n",
    "    num_classes = pseudo_gt.shape[0]\n",
    "\n",
    "    fig = plt.figure(layout=\"constrained\", figsize=(10, num_classes * 6))\n",
    "    gs = GridSpec(\n",
    "        num_classes,\n",
    "        2,\n",
    "        left=0.1,\n",
    "        bottom=0.25,\n",
    "        right=0.95,\n",
    "        top=0.95,\n",
    "        wspace=0.0,\n",
    "        hspace=0.5,\n",
    "        width_ratios=[1, 1],\n",
    "    )\n",
    "\n",
    "    for i in range(num_classes):\n",
    "        ax = fig.add_subplot(gs[i, 0])\n",
    "        ax.imshow(pseudo_gt[i], cmap=\"gray\")\n",
    "        # ax.set_axis_off()\n",
    "\n",
    "        ax = fig.add_subplot(gs[i, 1])\n",
    "        ax.imshow(prediction[i], cmap=\"gray\")\n",
    "        # ax.set_axis_off()\n",
    "\n",
    "    plt.show()"
   ]
  },
  {
   "cell_type": "code",
   "execution_count": null,
   "metadata": {},
   "outputs": [],
   "source": [
    "def likelyhood_temperature_scaling(\n",
    "    x_softmax: torch.Tensor,\n",
    "    likelyhood: torch.Tensor,\n",
    "    alpha: float = 1.0,\n",
    "    beta: float = 1.0,\n",
    "):\n",
    "    \"\"\"\n",
    "    Likelihood temperature scaling of the softmax output.\n",
    "    params:\n",
    "        x_softmax: torch.Tensor, shape (batch_size, num_classes, height, width)\n",
    "        likelyhood: torch.Tensor, shape (batch_size, num_classes, height, width)\n",
    "        alpha: float, between 0 and 1, default 1.0\n",
    "    returns:\n",
    "        torch.Tensor, shape (batch_size, num_classes, height, width)\n",
    "    \"\"\"\n",
    "\n",
    "    x_softmax = x_softmax / ((1 - likelyhood) ** beta) * alpha + torch.softmax(\n",
    "        x_softmax, dim=1\n",
    "    ) * (1 - alpha)\n",
    "    return x_softmax / torch.sum(x_softmax, dim=1)"
   ]
  },
  {
   "cell_type": "markdown",
   "metadata": {},
   "source": [
    "Config for the Pseudo-Generator:"
   ]
  },
  {
   "cell_type": "code",
   "execution_count": null,
   "metadata": {},
   "outputs": [],
   "source": [
    "from omegaconf import OmegaConf\n",
    "\n",
    "config = {\n",
    "    \"num_classes\": 4,\n",
    "    \"topo_features\": {\n",
    "        0: {0: 1, 1: 1},\n",
    "        1: {0: 1, 1: 0},\n",
    "        2: {0: 1, 1: 1},\n",
    "        3: {0: 1, 1: 0},\n",
    "    },\n",
    "    \"scaling_function\": {\"alpha\": 1.0},\n",
    "    \"analysis\": {\"num_bins\": 50, \"poly_degree\": 5, \"minimal_threshold\": 0.25},\n",
    "}\n",
    "\n",
    "config = OmegaConf.create(config)"
   ]
  },
  {
   "cell_type": "code",
   "execution_count": null,
   "metadata": {},
   "outputs": [],
   "source": [
    "batch = create_batch(\"../results/gif_over_timesteps_7.gif\", [8])\n",
    "\n",
    "pseudo_gt_generator = lg.PseudoGTGeneratorDim0_Comps(config)\n",
    "pseudo_gt = pseudo_gt_generator.pseudo_gt(batch, no_scaling=True)\n",
    "print(pseudo_gt.shape)"
   ]
  },
  {
   "cell_type": "code",
   "execution_count": null,
   "metadata": {},
   "outputs": [],
   "source": [
    "batch_idx = 0\n",
    "assert pseudo_gt.shape[0] > batch_idx\n",
    "\n",
    "alpha = 1.0\n",
    "beta = 10.0\n",
    "pseudo_gt_scaled = likelyhood_temperature_scaling(batch, pseudo_gt, alpha, beta)\n",
    "\n",
    "plot_pseudo_gt(pseudo_gt[batch_idx], batch[batch_idx])"
   ]
  },
  {
   "cell_type": "code",
   "execution_count": null,
   "metadata": {},
   "outputs": [],
   "source": [
    "print(f\"pseudo gt: {pseudo_gt[0, 2, 10:20, :10]}\")\n",
    "print(f\"batch: {batch[0, 2, :5, 10:20]}\")\n",
    "\n",
    "print(f\"pseudo gt: {pseudo_gt[0, 2, 13, 1]}\")"
   ]
  }
 ],
 "metadata": {
  "kernelspec": {
   "display_name": "ml_env",
   "language": "python",
   "name": "python3"
  },
  "language_info": {
   "codemirror_mode": {
    "name": "ipython",
    "version": 3
   },
   "file_extension": ".py",
   "mimetype": "text/x-python",
   "name": "python",
   "nbconvert_exporter": "python",
   "pygments_lexer": "ipython3",
   "version": "3.10.4"
  }
 },
 "nbformat": 4,
 "nbformat_minor": 2
}
